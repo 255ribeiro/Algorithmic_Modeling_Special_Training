{
 "cells": [
  {
   "cell_type": "markdown",
   "metadata": {},
   "source": [
    "# Object Oriented Programming (OOP)"
   ]
  },
  {
   "cell_type": "code",
   "execution_count": 26,
   "metadata": {},
   "outputs": [],
   "source": [
    "class Point2d():\n",
    "    def __init__(self, x, y, u = 'meter'):\n",
    "\n",
    "        self.x= x\n",
    "        self.y = y\n",
    "        self.__unit = u\n",
    "\n",
    "    def get_units(self):\n",
    "        print(self.__unit)\n",
    "\n",
    "    def set_units(self, u):\n",
    "        if u.lower() in ['meter', 'inches', 'milimiters', 'centimiters']:\n",
    "            self.__unit = u\n",
    "        else:\n",
    "            print(\"{} ins not a valid unit\".format(u))\n",
    "\n",
    "    def distance_xy(self, p2d, rnd = None):\n",
    "\n",
    "        dist = ((self.x - p2d.x)**2 + (self.y - p2d.y)**2 )**.5\n",
    "        if rnd:\n",
    "            dist = round(dist, rnd)\n",
    "        return dist\n",
    "\n",
    "    def __repr__(self):\n",
    "        return 'Point Coord \\nx: {}\\ny: {}\\nUnit: {}'.format(self.x, self.y, self.__unit)\n",
    "\n"
   ]
  },
  {
   "cell_type": "code",
   "execution_count": 27,
   "metadata": {},
   "outputs": [],
   "source": [
    "p2d_1 = Point2d(3,4.3)\n",
    "p2d_2 = Point2d(5, 7)"
   ]
  },
  {
   "cell_type": "code",
   "execution_count": 28,
   "metadata": {},
   "outputs": [
    {
     "data": {
      "text/plain": [
       "3.36006"
      ]
     },
     "execution_count": 28,
     "metadata": {},
     "output_type": "execute_result"
    }
   ],
   "source": [
    "d1 = p2d_1.distance_xy(p2d_2,5)\n",
    "d1"
   ]
  },
  {
   "cell_type": "code",
   "execution_count": 29,
   "metadata": {},
   "outputs": [
    {
     "data": {
      "text/plain": [
       "3.3600595232822887"
      ]
     },
     "execution_count": 29,
     "metadata": {},
     "output_type": "execute_result"
    }
   ],
   "source": [
    "d1 = p2d_1.distance_xy(p2d_2)\n",
    "d1"
   ]
  },
  {
   "cell_type": "code",
   "execution_count": 30,
   "metadata": {},
   "outputs": [
    {
     "name": "stdout",
     "output_type": "stream",
     "text": [
      "Point Coord \n",
      "x: 3\n",
      "y: 4.3\n",
      "Unit: meter\n"
     ]
    }
   ],
   "source": [
    "print(p2d_1)"
   ]
  },
  {
   "cell_type": "code",
   "execution_count": 31,
   "metadata": {},
   "outputs": [
    {
     "name": "stdout",
     "output_type": "stream",
     "text": [
      "meter\n"
     ]
    }
   ],
   "source": [
    "p2d_1.get_units()"
   ]
  },
  {
   "cell_type": "markdown",
   "metadata": {},
   "source": [
    "## Inheritance"
   ]
  },
  {
   "cell_type": "code",
   "execution_count": 32,
   "metadata": {},
   "outputs": [],
   "source": [
    "class Point3d(Point2d):\n",
    "\n",
    "    def __init__(self, x, y, z, u='meters'):\n",
    "        Point2d.__init__(self, x, y , u)\n",
    "        self.z= z\n",
    "        \n",
    "    def distance_xyz(self, p2d, rnd = None):\n",
    "        dist = ((self.x - p2d.x)**2 + (self.y - p2d.y)**2  + (self.z - p2d.z)**2 )**.5\n",
    "        if rnd:\n",
    "            dist = round(dist, rnd)\n",
    "        return dist\n",
    "\n",
    "    def __repr__(self):\n",
    "        return 'Point Coord \\nx: {}\\ny: {}\\nz: {}\\nUnit: {}'.format(self.x, self.y, self.z, self.__unit)"
   ]
  },
  {
   "cell_type": "code",
   "execution_count": 33,
   "metadata": {},
   "outputs": [],
   "source": [
    "p3d_1 = Point3d(3,4.3,0)\n",
    "p3d_2 = Point3d(5, 7,7)"
   ]
  },
  {
   "cell_type": "code",
   "execution_count": 34,
   "metadata": {},
   "outputs": [
    {
     "data": {
      "text/plain": [
       "3.3600595232822887"
      ]
     },
     "execution_count": 34,
     "metadata": {},
     "output_type": "execute_result"
    }
   ],
   "source": [
    "p3d_1.distance_xy(p3d_2)"
   ]
  },
  {
   "cell_type": "code",
   "execution_count": 35,
   "metadata": {},
   "outputs": [
    {
     "data": {
      "text/plain": [
       "7.764663547121665"
      ]
     },
     "execution_count": 35,
     "metadata": {},
     "output_type": "execute_result"
    }
   ],
   "source": [
    "p3d_1.distance_xyz(p3d_2)"
   ]
  }
 ],
 "metadata": {
  "interpreter": {
   "hash": "c178a8ce3a48319548acc754927b27b2489ba78fc9fe9a325daa584cad861e02"
  },
  "kernelspec": {
   "display_name": "Python 3.9.6 64-bit ('amst-Bq4zIj0s-py3.9': poetry)",
   "language": "python",
   "name": "python3"
  },
  "language_info": {
   "codemirror_mode": {
    "name": "ipython",
    "version": 3
   },
   "file_extension": ".py",
   "mimetype": "text/x-python",
   "name": "python",
   "nbconvert_exporter": "python",
   "pygments_lexer": "ipython3",
   "version": "3.9.6"
  },
  "orig_nbformat": 4
 },
 "nbformat": 4,
 "nbformat_minor": 2
}
