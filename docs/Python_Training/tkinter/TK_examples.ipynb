{
 "cells": [
  {
   "cell_type": "code",
   "execution_count": 1,
   "id": "38f1f040",
   "metadata": {},
   "outputs": [],
   "source": [
    "import tkinter as tk"
   ]
  },
  {
   "cell_type": "code",
   "execution_count": 8,
   "id": "6529d033",
   "metadata": {},
   "outputs": [],
   "source": [
    "# Basic loop\n",
    "\n",
    "root = tk.Tk()\n",
    "label1 = tk.Label(root, text='hello TK')\n",
    "label1.pack()\n",
    "root.mainloop()"
   ]
  },
  {
   "cell_type": "code",
   "execution_count": 10,
   "id": "1ca1ec67",
   "metadata": {},
   "outputs": [],
   "source": [
    "# grid\n",
    "\n",
    "root = tk.Tk()\n",
    "label1 = tk.Label(root, text='hello TK')\n",
    "label2 = tk.Label(root, text='My name is Fernando')\n",
    "\n",
    "label1.grid(row=0, column = 0)\n",
    "label2.grid(row=1, column = 5)\n",
    "\n",
    "root.mainloop()"
   ]
  },
  {
   "cell_type": "code",
   "execution_count": 11,
   "id": "ce9a87b8",
   "metadata": {},
   "outputs": [],
   "source": [
    "# grid\n",
    "\n",
    "# main window\n",
    "root = tk.Tk()\n",
    "\n",
    "#creating widgets\n",
    "label1 = tk.Label(root, text='hello TK')\n",
    "label2 = tk.Label(root, text='My name is Fernando')\n",
    "\n",
    "#placing widgets\n",
    "label1.grid(row=0, column = 0)\n",
    "label2.grid(row=1, column = 5)\n",
    "\n",
    "#main loop\n",
    "root.mainloop()"
   ]
  },
  {
   "cell_type": "code",
   "execution_count": 3,
   "id": "12464088",
   "metadata": {},
   "outputs": [],
   "source": [
    "# Button\n",
    "\n",
    "# Button action : Function\n",
    "def clickButton():\n",
    "    my_label = tk.Label(root, text='I clicked a Button')\n",
    "    my_label.pack()\n",
    "\n",
    "# main window\n",
    "root = tk.Tk()\n",
    "\n",
    "#creating widgets\n",
    "myButton = tk.Button(root, text='Click me!',padx=10, pady =2, command = clickButton).pack()\n",
    "\n",
    "#main loop\n",
    "root.mainloop()"
   ]
  },
  {
   "cell_type": "code",
   "execution_count": 19,
   "id": "a7e36672",
   "metadata": {},
   "outputs": [],
   "source": [
    "# Entry Widget\n",
    "\n",
    "# Button action : Function\n",
    "def clickButton():\n",
    "    my_label = tk.Label(root, text=e.get(),fg ='teal')\n",
    "    my_label.pack()\n",
    "\n",
    "# main window\n",
    "root = tk.Tk()\n",
    "\n",
    "e = tk.Entry(root, width=50, bg='white',fg='black')\n",
    "e.insert(0, 'Enter your name')\n",
    "e.pack()\n",
    "\n",
    "#creating widgets\n",
    "myButton = tk.Button(root, text='Click me!',padx=10, pady =2, command = clickButton).pack()\n",
    "\n",
    "#main loop\n",
    "root.mainloop()"
   ]
  },
  {
   "cell_type": "code",
   "execution_count": 57,
   "id": "3e5b737d",
   "metadata": {},
   "outputs": [],
   "source": [
    "# Calculator\n",
    "\n",
    "\n",
    "\n",
    "# main window\n",
    "root = tk.Tk()\n",
    "root.title('Simple Calculator')\n",
    "\n",
    "\n",
    "# Button action : Function\n",
    "def type_number(number):\n",
    "    #e.delete(0, END)\n",
    "    e.insert(0, number)\n",
    "\n",
    "e = tk.Entry(root, width=35, borderwidth =5)\n",
    "\n",
    "e.grid(row = 0, column=0, columnspan =3, padx =5, pady=2 )\n",
    "\n",
    "\n",
    "but_number = list(range(1,10))\n",
    "\n",
    "but_number = but_number + [0]\n",
    "\n",
    "but_list =[]\n",
    "for i in range(len(but_number)):\n",
    "    r = i//3\n",
    "    c = i%3\n",
    "    number = int(but_number[i])\n",
    "    aux_button = tk.Button(root, text=str(but_number[i]) ,padx=30, pady =15, command =lambda : type_number(number)).grid(row = r+1, column = c)\n",
    "    but_list.append(aux_button)\n",
    "\n",
    "#main loop\n",
    "root.mainloop()"
   ]
  },
  {
   "cell_type": "code",
   "execution_count": null,
   "id": "1cb38277",
   "metadata": {},
   "outputs": [],
   "source": []
  }
 ],
 "metadata": {
  "kernelspec": {
   "display_name": "Python 3 (ipykernel)",
   "language": "python",
   "name": "python3"
  },
  "language_info": {
   "codemirror_mode": {
    "name": "ipython",
    "version": 3
   },
   "file_extension": ".py",
   "mimetype": "text/x-python",
   "name": "python",
   "nbconvert_exporter": "python",
   "pygments_lexer": "ipython3",
   "version": "3.8.8"
  }
 },
 "nbformat": 4,
 "nbformat_minor": 5
}
