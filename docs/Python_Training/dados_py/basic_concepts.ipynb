{
 "cells": [
  {
   "cell_type": "markdown",
   "id": "7a293bce",
   "metadata": {},
   "source": [
    "# Basic concepts for data analisys with pandas"
   ]
  },
  {
   "cell_type": "markdown",
   "id": "5af81141",
   "metadata": {},
   "source": [
    "## Dictionaries"
   ]
  },
  {
   "cell_type": "code",
   "execution_count": 4,
   "id": "b849d50a",
   "metadata": {},
   "outputs": [],
   "source": [
    "d1 = dict(a= 1, b= 'a', c= [1,2,3])"
   ]
  },
  {
   "cell_type": "code",
   "execution_count": 6,
   "id": "d986ca18",
   "metadata": {},
   "outputs": [
    {
     "data": {
      "text/plain": [
       "(1, 'a', [1, 2, 3])"
      ]
     },
     "execution_count": 6,
     "metadata": {},
     "output_type": "execute_result"
    }
   ],
   "source": [
    "d1['a'], d1['b'], d1['c']"
   ]
  },
  {
   "cell_type": "code",
   "execution_count": 7,
   "id": "13f63b9d",
   "metadata": {},
   "outputs": [],
   "source": [
    "d2 = {'a':7, 'b': 9, 'c': [1,2,3]}"
   ]
  },
  {
   "cell_type": "code",
   "execution_count": 8,
   "id": "2cb7786a",
   "metadata": {
    "scrolled": false
   },
   "outputs": [
    {
     "data": {
      "text/plain": [
       "(7, 9, [1, 2, 3])"
      ]
     },
     "execution_count": 8,
     "metadata": {},
     "output_type": "execute_result"
    }
   ],
   "source": [
    "d2['a'], d2['b'], d2['c']"
   ]
  },
  {
   "cell_type": "markdown",
   "id": "06f86c0f",
   "metadata": {},
   "source": [
    "### Dictionary methods\n",
    "[https://www.w3schools.com/python/python_ref_dictionary.asp](https://www.w3schools.com/python/python_ref_dictionary.asp)"
   ]
  },
  {
   "cell_type": "markdown",
   "id": "3818e221",
   "metadata": {},
   "source": [
    "## Read File\n",
    "[https://www.geeksforgeeks.org/how-to-read-from-a-file-in-python/](https://www.geeksforgeeks.org/how-to-read-from-a-file-in-python/)"
   ]
  },
  {
   "cell_type": "markdown",
   "id": "ab116bdf",
   "metadata": {},
   "source": [
    "### Example file"
   ]
  },
  {
   "cell_type": "code",
   "execution_count": 3,
   "id": "1d062869",
   "metadata": {},
   "outputs": [
    {
     "name": "stdout",
     "output_type": "stream",
     "text": [
      "Line1: Hay dos maneras de hermosura: una del alma y otra del cuerpo;\n",
      "Line2: la del alma campea y se muestra en el entendimiento, en la honestidad, en el buen proceder,\n",
      "Line3: en la liberalidad y en la buena crianza, y todas estas partes caben y pueden estar en un hombre feo;\n",
      "Line4: y cuando se pone la mira en esta hermosura,\n",
      "Line5: y no en la del cuerpo, suele nacer el amor con Ã­mpetu y con ventajas.\n"
     ]
    }
   ],
   "source": [
    "file1 = open(\"MyFile.txt\", \"r\")\n",
    "count=0\n",
    "Lines = file1.readlines()\n",
    "for line in Lines:\n",
    "    count += 1\n",
    "    print(\"Line{}: {}\".format(count, line.strip()))"
   ]
  },
  {
   "cell_type": "code",
   "execution_count": null,
   "id": "255119cf",
   "metadata": {},
   "outputs": [],
   "source": []
  }
 ],
 "metadata": {
  "kernelspec": {
   "display_name": "Python 3 (ipykernel)",
   "language": "python",
   "name": "python3"
  },
  "language_info": {
   "codemirror_mode": {
    "name": "ipython",
    "version": 3
   },
   "file_extension": ".py",
   "mimetype": "text/x-python",
   "name": "python",
   "nbconvert_exporter": "python",
   "pygments_lexer": "ipython3",
   "version": "3.8.8"
  }
 },
 "nbformat": 4,
 "nbformat_minor": 5
}
