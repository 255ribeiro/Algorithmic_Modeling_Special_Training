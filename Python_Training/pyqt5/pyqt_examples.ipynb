{
 "cells": [
  {
   "cell_type": "code",
   "execution_count": null,
   "metadata": {},
   "outputs": [],
   "source": [
    "import sys\n",
    "from PyQt5.QtWidgets import *\n"
   ]
  },
  {
   "cell_type": "markdown",
   "metadata": {},
   "source": [
    "### Documentation\n",
    "[https://doc.qt.io/](https://doc.qt.io/)"
   ]
  },
  {
   "cell_type": "markdown",
   "metadata": {},
   "source": [
    "## Procedural approach"
   ]
  },
  {
   "cell_type": "code",
   "execution_count": null,
   "metadata": {},
   "outputs": [],
   "source": [
    "# Create app\n",
    "app = QApplication(sys.argv)\n",
    "# Create main window\n",
    "dlgMain = QWidget() # dlgMain = QMainWindow()\n",
    "# configure main window\n",
    "dlgMain.setWindowTitle('My App')\n",
    "# ...\n",
    "# show main window\n",
    "dlgMain.show()\n",
    "# execute app\n",
    "app.exec_()"
   ]
  },
  {
   "cell_type": "markdown",
   "metadata": {},
   "source": [
    "### Alternatively"
   ]
  },
  {
   "cell_type": "code",
   "execution_count": null,
   "metadata": {},
   "outputs": [],
   "source": [
    "# Create app\n",
    "app = QApplication(sys.argv)\n",
    "# Create main window\n",
    "dlgMain = QMainWindow() # or dlgMain = QWidget() \n",
    "# configure main window\n",
    "dlgMain.setWindowTitle('My App')\n",
    "# ...\n",
    "# show main window\n",
    "dlgMain.show()\n",
    "# execute app\n",
    "sys.exit(app.exec_())"
   ]
  },
  {
   "cell_type": "markdown",
   "metadata": {},
   "source": [
    "## Object oriented method"
   ]
  },
  {
   "cell_type": "code",
   "execution_count": 1,
   "metadata": {},
   "outputs": [],
   "source": [
    "import sys\n",
    "from PyQt5.QtWidgets import *"
   ]
  },
  {
   "cell_type": "code",
   "execution_count": null,
   "metadata": {},
   "outputs": [],
   "source": [
    "# Create class\n",
    "class DlgMain(QDialog):\n",
    "    # __init__ function\n",
    "    def __init__(self):\n",
    "        super().__init__()\n",
    "        # configure main window\n",
    "        self.setWindowTitle(\"My App\")\n",
    "\n",
    "\n",
    "if __name__ == \"__main__\":\n",
    "    app = QApplication(sys.argv)\n",
    "    dlgMain = DlgMain()\n",
    "    # show main window\n",
    "    dlgMain.show()\n",
    "    # execute app\n",
    "    sys.exit(app.exec_())"
   ]
  },
  {
   "cell_type": "markdown",
   "metadata": {},
   "source": [
    "### Adding widget"
   ]
  },
  {
   "cell_type": "code",
   "execution_count": 2,
   "metadata": {},
   "outputs": [
    {
     "ename": "SystemExit",
     "evalue": "0",
     "output_type": "error",
     "traceback": [
      "An exception has occurred, use %tb to see the full traceback.\n",
      "\u001b[1;31mSystemExit\u001b[0m\u001b[1;31m:\u001b[0m 0\n"
     ]
    },
    {
     "name": "stderr",
     "output_type": "stream",
     "text": [
      "c:\\Users\\ferra\\anaconda3\\lib\\site-packages\\IPython\\core\\interactiveshell.py:3452: UserWarning: To exit: use 'exit', 'quit', or Ctrl-D.\n",
      "  warn(\"To exit: use 'exit', 'quit', or Ctrl-D.\", stacklevel=1)\n"
     ]
    }
   ],
   "source": [
    "# Create class\n",
    "class DlgMain(QDialog):\n",
    "    # __init__ function\n",
    "    def __init__(self):\n",
    "        super().__init__()\n",
    "        # configure main window\n",
    "        ## windows size\n",
    "        self.resize(200,200)\n",
    "        self.setWindowTitle(\"My App\")\n",
    "        # adding text entry\n",
    "        self.leadtext = QLineEdit('My Text', self)\n",
    "        self.leadtext.move(45,50)\n",
    "        # Button\n",
    "        self.btnupdate = QPushButton('Update window title', self)\n",
    "        self.btnupdate.move(45,80)\n",
    "        self.btnupdate.clicked.connect(self.evt_btnupdate_clicked)\n",
    "\n",
    "    def evt_btnupdate_clicked(self):\n",
    "        self.setWindowTitle(self.leadtext.text())\n",
    "       \n",
    "\n",
    "\n",
    "if __name__ == \"__main__\":\n",
    "    app = QApplication(sys.argv)\n",
    "    dlgMain = DlgMain()\n",
    "    # show main window\n",
    "    dlgMain.show()\n",
    "    # execute app\n",
    "    sys.exit(app.exec_())"
   ]
  }
 ],
 "metadata": {
  "interpreter": {
   "hash": "c178a8ce3a48319548acc754927b27b2489ba78fc9fe9a325daa584cad861e02"
  },
  "kernelspec": {
   "display_name": "Python 3.9.6 64-bit ('amst-Bq4zIj0s-py3.9': poetry)",
   "language": "python",
   "name": "python3"
  },
  "language_info": {
   "codemirror_mode": {
    "name": "ipython",
    "version": 3
   },
   "file_extension": ".py",
   "mimetype": "text/x-python",
   "name": "python",
   "nbconvert_exporter": "python",
   "pygments_lexer": "ipython3",
   "version": "3.9.6"
  },
  "orig_nbformat": 4
 },
 "nbformat": 4,
 "nbformat_minor": 2
}
