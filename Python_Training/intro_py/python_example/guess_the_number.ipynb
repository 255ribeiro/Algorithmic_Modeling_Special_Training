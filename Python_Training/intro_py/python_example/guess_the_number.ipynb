{
 "cells": [
  {
   "cell_type": "code",
   "execution_count": 1,
   "metadata": {},
   "outputs": [
    {
     "name": "stdout",
     "output_type": "stream",
     "text": [
      "O número é maior que 50.\n",
      "Tente novamente...\n",
      "O número é maior que 70.\n",
      "Tente novamente...\n",
      "O número é menor que 90.\n",
      "Tente novamente...\n",
      "O número é menor que 80.\n",
      "Tente novamente...\n",
      "Você venceu !!!!\n",
      "número sorteado:  75\n"
     ]
    }
   ],
   "source": [
    "from random import randint\n",
    "\n",
    "\n",
    "def get_guess(min_number, max_number):\n",
    "    num_to_guess = randint(min_number, max_number)\n",
    "\n",
    "    end_game = False\n",
    "\n",
    "    while not end_game:\n",
    "        current_guess = input('Digite um número emtre {} e {}:\\n'.format(min_number, max_number))\n",
    "        try:\n",
    "            current_guess = int(current_guess)\n",
    "        except ValueError as v_error:\n",
    "            if str(v_error).split(':')[0] == 'invalid literal for int() with base 10':\n",
    "                print('Tem certeza que digitou um número? Tente Novamente...')\n",
    "\n",
    "        else:\n",
    "            if (current_guess < min_number) or (current_guess > max_number):\n",
    "                print('Valor fora do intervalo! Tente novamente...')\n",
    "            elif max_number - min_number <= 1:\n",
    "                print(\"O computador foi encurralado! parabéns\")\n",
    "                end_game = True\n",
    "            elif current_guess < num_to_guess:\n",
    "                print(\"O número é maior que {}.\\nTente novamente...\".format(current_guess))\n",
    "                min_number = current_guess\n",
    "            elif current_guess > num_to_guess:\n",
    "                print(\"O número é menor que {}.\\nTente novamente...\".format(current_guess))\n",
    "                max_number = current_guess\n",
    "            elif current_guess == num_to_guess:\n",
    "                print('Você perdeu!!!')\n",
    "                end_game = True\n",
    "    return num_to_guess\n",
    "\n",
    "\n",
    "if __name__ == '__main__':\n",
    "    min_value = 1\n",
    "    max_value = 100\n",
    "    MN = get_guess(min_value, max_value)\n",
    "    print('número sorteado: ', MN)"
   ]
  }
 ],
 "metadata": {
  "interpreter": {
   "hash": "f40267295ea424755b81aaa3d6fb82fe9cd10d18efd29e283ae8917996517383"
  },
  "kernelspec": {
   "display_name": "Python 3.8.8 64-bit ('base': conda)",
   "language": "python",
   "name": "python3"
  },
  "language_info": {
   "codemirror_mode": {
    "name": "ipython",
    "version": 3
   },
   "file_extension": ".py",
   "mimetype": "text/x-python",
   "name": "python",
   "nbconvert_exporter": "python",
   "pygments_lexer": "ipython3",
   "version": "3.8.8"
  },
  "orig_nbformat": 4
 },
 "nbformat": 4,
 "nbformat_minor": 2
}
