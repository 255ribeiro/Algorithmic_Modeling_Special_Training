{
 "cells": [
  {
   "cell_type": "markdown",
   "metadata": {},
   "source": [
    "# Data Structures part 1\n",
    "## Lists, Tuples and Strings (as a list of characters)"
   ]
  },
  {
   "cell_type": "code",
   "execution_count": 33,
   "metadata": {},
   "outputs": [
    {
     "name": "stdout",
     "output_type": "stream",
     "text": [
      "[1, 2, 3]\n"
     ]
    }
   ],
   "source": [
    "my_list = [1,2,3] \n",
    "print(my_list)"
   ]
  },
  {
   "cell_type": "code",
   "execution_count": 34,
   "metadata": {},
   "outputs": [
    {
     "name": "stdout",
     "output_type": "stream",
     "text": [
      "[1, 2, 3]\n"
     ]
    }
   ],
   "source": [
    "# alternatively, lists cam be created with the list function: \n",
    "my_list = list([1,2,3])\n",
    "print(my_list)"
   ]
  },
  {
   "cell_type": "code",
   "execution_count": 35,
   "metadata": {},
   "outputs": [
    {
     "name": "stdout",
     "output_type": "stream",
     "text": [
      "(1, 2, 3)\n"
     ]
    }
   ],
   "source": [
    "my_tuple = (1,2,3)\n",
    "print(my_tuple)"
   ]
  },
  {
   "cell_type": "code",
   "execution_count": 36,
   "metadata": {},
   "outputs": [
    {
     "name": "stdout",
     "output_type": "stream",
     "text": [
      "(1, 2, 3)\n"
     ]
    }
   ],
   "source": [
    "# alternatively, tuples cam be created with the tuple function: \n",
    "my_tuple = tuple([1,2,3])\n",
    "print(my_tuple)"
   ]
  },
  {
   "cell_type": "code",
   "execution_count": 37,
   "metadata": {},
   "outputs": [
    {
     "name": "stdout",
     "output_type": "stream",
     "text": [
      "<class 'list'> <class 'tuple'>\n"
     ]
    }
   ],
   "source": [
    "print (type(my_list), type(my_tuple) )"
   ]
  },
  {
   "cell_type": "markdown",
   "metadata": {},
   "source": [
    "## Acessing values inside lists and tuples (indexes)"
   ]
  },
  {
   "cell_type": "code",
   "execution_count": 38,
   "metadata": {},
   "outputs": [
    {
     "name": "stdout",
     "output_type": "stream",
     "text": [
      "1\n",
      "2\n",
      "3\n"
     ]
    }
   ],
   "source": [
    "print(my_list[0])\n",
    "print(my_list[1])\n",
    "print(my_list[2])"
   ]
  },
  {
   "cell_type": "code",
   "execution_count": 39,
   "metadata": {},
   "outputs": [
    {
     "name": "stdout",
     "output_type": "stream",
     "text": [
      "1\n",
      "2\n",
      "3\n"
     ]
    }
   ],
   "source": [
    "print(my_tuple[0])\n",
    "print(my_tuple[1])\n",
    "print(my_tuple[2])"
   ]
  },
  {
   "cell_type": "markdown",
   "metadata": {},
   "source": [
    "## Lists Manipulation\n"
   ]
  },
  {
   "cell_type": "markdown",
   "metadata": {},
   "source": [
    "### Change one value in a list\n"
   ]
  },
  {
   "cell_type": "code",
   "execution_count": 40,
   "metadata": {},
   "outputs": [
    {
     "name": "stdout",
     "output_type": "stream",
     "text": [
      "[1, 2, 3]\n",
      "[99, 2, 3]\n"
     ]
    }
   ],
   "source": [
    "print(my_list)\n",
    "my_list[0] = 99\n",
    "print(my_list)"
   ]
  },
  {
   "cell_type": "markdown",
   "metadata": {},
   "source": [
    "### Delete one value (by index) in a list\n"
   ]
  },
  {
   "cell_type": "code",
   "execution_count": 41,
   "metadata": {},
   "outputs": [
    {
     "name": "stdout",
     "output_type": "stream",
     "text": [
      "[99, 2, 3]\n",
      "[2, 3]\n"
     ]
    }
   ],
   "source": [
    "print(my_list)\n",
    "del my_list[0]\n",
    "print(my_list)"
   ]
  },
  {
   "cell_type": "markdown",
   "metadata": {},
   "source": [
    "#### About the del keyword\n",
    "\n",
    "The ```del``` keyword clear values from memory"
   ]
  },
  {
   "cell_type": "code",
   "execution_count": 47,
   "metadata": {},
   "outputs": [
    {
     "name": "stdout",
     "output_type": "stream",
     "text": [
      "1.5\n"
     ]
    }
   ],
   "source": [
    "# example\n",
    "# defining a variable\n",
    "x = 1.5\n",
    "# testing the variable\n",
    "try:\n",
    "    print(x)\n",
    "except NameError:\n",
    "    print('there is no variable with this name')"
   ]
  },
  {
   "cell_type": "code",
   "execution_count": 48,
   "metadata": {},
   "outputs": [
    {
     "name": "stdout",
     "output_type": "stream",
     "text": [
      "there is no variable with this name\n"
     ]
    }
   ],
   "source": [
    "# using the del keyword\n",
    "del x\n",
    "# testing the variable\n",
    "try:\n",
    "    print(x)\n",
    "except NameError:\n",
    "    print('there is no variable with this name')"
   ]
  },
  {
   "cell_type": "markdown",
   "metadata": {},
   "source": [
    "### The pop method can also be used to erase especific values from a list"
   ]
  },
  {
   "cell_type": "code",
   "execution_count": 61,
   "metadata": {},
   "outputs": [
    {
     "name": "stdout",
     "output_type": "stream",
     "text": [
      "[0, 1, 2, 3, 4]\n",
      "[1, 2, 3, 4]\n"
     ]
    }
   ],
   "source": [
    "range_list = list(range(0,5)) # creating a list from a range\n",
    "print(range_list)\n",
    "range_list.pop(0) # pop the element of index zero\n",
    "print(range_list)"
   ]
  },
  {
   "cell_type": "markdown",
   "metadata": {},
   "source": [
    "### the pop mehtod can be used to extract a value and save it in a variable\n"
   ]
  },
  {
   "cell_type": "code",
   "execution_count": 60,
   "metadata": {},
   "outputs": [
    {
     "name": "stdout",
     "output_type": "stream",
     "text": [
      "[1, 2, 3, 4]\n",
      "list:  [2, 3, 4] \n",
      "extracted value:  1\n"
     ]
    }
   ],
   "source": [
    "print(range_list)\n",
    "poped_value = range_list.pop(0) \n",
    "print('list: ', range_list, '\\nextracted value: ', poped_value)"
   ]
  },
  {
   "cell_type": "markdown",
   "metadata": {},
   "source": [
    "## List manipulation methods\n",
    "\n",
    "list.append()\t        Adds an element at the end of the list\n",
    "\n",
    "list.clear()\t        Removes all the elements from the list\n",
    "\n",
    "list.copy()\t            Returns a copy of the list\n",
    "\n",
    "list.count()\t        Returns the number of elements with the specified value\n",
    "\n",
    "list.extend()\t        Add the elements of a list (or any iterable), to the end of the current list\n",
    "\n",
    "list.index()\t        Returns the index of the first element with the specified value\n",
    "\n",
    "list.insert()\t        Adds an element at the specified position\n",
    "\n",
    "list.pop()\t            Removes the element at the specified position\n",
    "\n",
    "list.remove()\t        Removes the first item with the specified value\n",
    "\n",
    "list.reverse()\t        Reverses the order of the list\n",
    "\n",
    "list.sort()\t            Inplace order the elements by values \n"
   ]
  },
  {
   "cell_type": "code",
   "execution_count": 49,
   "metadata": {},
   "outputs": [
    {
     "name": "stdout",
     "output_type": "stream",
     "text": [
      "[2, 3]\n",
      "[2, 3, 0]\n"
     ]
    }
   ],
   "source": [
    "print(my_list)\n",
    "my_list.append(0)\n",
    "print(my_list)"
   ]
  },
  {
   "cell_type": "code",
   "execution_count": 50,
   "metadata": {},
   "outputs": [
    {
     "name": "stdout",
     "output_type": "stream",
     "text": [
      "[2, 3, 0]\n",
      "[]\n"
     ]
    }
   ],
   "source": [
    "print(my_list)\n",
    "my_list.clear()\n",
    "print(my_list)"
   ]
  },
  {
   "cell_type": "code",
   "execution_count": 51,
   "metadata": {},
   "outputs": [
    {
     "name": "stdout",
     "output_type": "stream",
     "text": [
      "[0, 1, 2, 3, 4, 5, 6, 7, 8, 9]\n"
     ]
    }
   ],
   "source": [
    "my_list = list(range(0,10))\n",
    "print(my_list)"
   ]
  }
 ],
 "metadata": {
  "interpreter": {
   "hash": "3abbfdc7b88c3f27fa3ccbd1036df2b41d1feff730b87beebdcaaef01a2a3bae"
  },
  "kernelspec": {
   "display_name": "Python 3.9.6 64-bit ('amst-Bq4zIj0s-py3.9': poetry)",
   "language": "python",
   "name": "python3"
  },
  "language_info": {
   "codemirror_mode": {
    "name": "ipython",
    "version": 3
   },
   "file_extension": ".py",
   "mimetype": "text/x-python",
   "name": "python",
   "nbconvert_exporter": "python",
   "pygments_lexer": "ipython3",
   "version": "3.9.6"
  },
  "orig_nbformat": 4
 },
 "nbformat": 4,
 "nbformat_minor": 2
}
