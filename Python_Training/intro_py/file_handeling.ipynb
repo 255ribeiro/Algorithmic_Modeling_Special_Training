{
 "cells": [
  {
   "cell_type": "markdown",
   "metadata": {},
   "source": [
    "# File handeling"
   ]
  },
  {
   "cell_type": "code",
   "execution_count": null,
   "metadata": {},
   "outputs": [],
   "source": [
    "# to open a file use function open:\n",
    " f= open('file_name', 'mode')"
   ]
  },
  {
   "cell_type": "markdown",
   "metadata": {},
   "source": [
    "### file handeling modes:\n",
    "\n",
    "r: open existing file (read only)\n",
    "\n",
    "w: open existing file to write (override all previous data in the file)\n",
    "\n",
    "a:  open existing file to append information\n",
    "\n",
    "r+:  To read and write data into the file. (override all previous data)\n",
    "\n",
    "w+: To write and read data. (override all previous data)\n",
    "\n",
    "a+: To append and read."
   ]
  },
  {
   "cell_type": "code",
   "execution_count": null,
   "metadata": {},
   "outputs": [],
   "source": [
    "file = open('example.txt', 'r')\n",
    "for line in file:\n",
    "    print (line)"
   ]
  }
 ],
 "metadata": {
  "language_info": {
   "name": "python"
  },
  "orig_nbformat": 4
 },
 "nbformat": 4,
 "nbformat_minor": 2
}
